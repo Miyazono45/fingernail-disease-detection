{
 "cells": [
  {
   "cell_type": "code",
   "execution_count": 2,
   "id": "initial_id",
   "metadata": {
    "ExecuteTime": {
     "end_time": "2024-05-23T12:55:57.487546Z",
     "start_time": "2024-05-23T12:55:57.462879Z"
    },
    "collapsed": true
   },
   "outputs": [],
   "source": [
    "import matplotlib.pyplot as plt\n",
    "import numpy as np\n",
    "import cv2\n",
    "from PIL import Image\n",
    "\n",
    "img_read = cv2.imread(\"img/3_.png\")\n",
    "cv2.imshow(\"Original Image\", img_read)\n",
    "cv2.waitKey(0)\n",
    "cv2.destroyAllWindows()\n"
   ]
  },
  {
   "cell_type": "markdown",
   "id": "5b377ac7",
   "metadata": {},
   "source": [
    "## Convert BGR to HSV"
   ]
  },
  {
   "cell_type": "code",
   "execution_count": 3,
   "id": "7ccf783e",
   "metadata": {},
   "outputs": [
    {
     "name": "stderr",
     "output_type": "stream",
     "text": [
      "C:\\Users\\Naufal\\AppData\\Local\\Temp\\ipykernel_24988\\3365308714.py:10: DeprecationWarning: `np.float` is a deprecated alias for the builtin `float`. To silence this warning, use `float` by itself. Doing this will not modify any behavior and is safe. If you specifically wanted the numpy scalar type, use `np.float64` here.\n",
      "Deprecated in NumPy 1.20; for more details and guidance: https://numpy.org/devdocs/release/1.20.0-notes.html#deprecations\n",
      "  s = np.zeros((row, col), dtype=np.float)\n",
      "C:\\Users\\Naufal\\AppData\\Local\\Temp\\ipykernel_24988\\3365308714.py:11: DeprecationWarning: `np.float` is a deprecated alias for the builtin `float`. To silence this warning, use `float` by itself. Doing this will not modify any behavior and is safe. If you specifically wanted the numpy scalar type, use `np.float64` here.\n",
      "Deprecated in NumPy 1.20; for more details and guidance: https://numpy.org/devdocs/release/1.20.0-notes.html#deprecations\n",
      "  v = np.zeros((row, col), dtype=np.float)\n"
     ]
    }
   ],
   "source": [
    "import cv2\n",
    "import numpy as np\n",
    "\n",
    "# Detect image size\n",
    "row, col = img_read.shape[:2]\n",
    "# Convert BGR to HSV\n",
    "def BGR2HSV(image):\n",
    "    # Create empty array for placeholder\n",
    "    h = np.zeros((row, col), dtype=np.uint32)\n",
    "    s = np.zeros((row, col), dtype=np.float)\n",
    "    v = np.zeros((row, col), dtype=np.float)\n",
    "    \n",
    "    # Start calculation (looping)\n",
    "    for i in range(row):\n",
    "        for j in range(col):\n",
    "            currentPixel = image[i, j]\n",
    "            # Normalize the pixel\n",
    "            b = currentPixel[0] / 255\n",
    "            g = currentPixel[1] / 255\n",
    "            r = currentPixel[2] / 255\n",
    "            \n",
    "            # Start calculation (https://youtu.be/QRssbkMmB50?si=RWli19HjF_HginxQ)\n",
    "            cmax = np.max([b, g, r])\n",
    "            cmin = np.min([b, g, r])\n",
    "            difference = cmax - cmin\n",
    "            \n",
    "            # Hue Calc\n",
    "            if cmax == cmin:\n",
    "                h[i,j] = 0\n",
    "            elif cmax == r:\n",
    "                h[i,j] = (60 * ((g - b) / difference)) % 360\n",
    "            elif cmax == g:\n",
    "                h[i,j] = (60 * ((b - r) / difference) + 120) % 360\n",
    "            elif cmax == b:\n",
    "                h[i,j] = (60 * ((r - g) / difference) + 240) % 360\n",
    "            \n",
    "            # Saturation Calc\n",
    "            if cmax == 0:\n",
    "                s[i,j] = 0\n",
    "            else:\n",
    "                s[i,j] = (difference / cmax)\n",
    "            \n",
    "            # Value Calc\n",
    "            v[i,j] = cmax\n",
    "    \n",
    "    return h, s, v\n",
    "\n",
    "# Normalization (https://github.com/zain-ul-abaidin/Digital-Image-Processing/blob/82cf59eb81acfca01f66cb860d9dc336aba9b251/BGR2HSV-Hue-Saturation-Intensity-without-Build-in.py#L44)\n",
    "def normalization(out):\n",
    "    minimum = np.min(out)\n",
    "    maximum = np.max(out)\n",
    "    normImg = np.zeros((row, col), dtype=np.uint8)\n",
    "    for i in range(0, row):\n",
    "        for j in range(0, col):\n",
    "            # Using Normalization Formula\n",
    "            normImg[i][j] = (255*(out[i][j]-minimum))//(maximum-minimum)\n",
    "    return normImg\n",
    "\n",
    "h,s,v = BGR2HSV(img_read)\n",
    "norm_s = normalization(s)\n",
    "cv2.imshow(\"BGR to HSV\", norm_s)\n",
    "cv2.waitKey(0)\n",
    "cv2.destroyAllWindows()"
   ]
  },
  {
   "cell_type": "markdown",
   "id": "86686af3",
   "metadata": {},
   "source": [
    "## Gaussian Blur"
   ]
  },
  {
   "cell_type": "code",
   "execution_count": 4,
   "id": "64c55e2b",
   "metadata": {},
   "outputs": [],
   "source": [
    "def convolution(image: np.ndarray, kernel: list | tuple )-> np.ndarray:\n",
    "    if len(image.shape) == 3:\n",
    "        H,W,C = image.shape\n",
    "    \n",
    "    elif len(image.shape) == 2:\n",
    "        image = image[..., np.newaxis]\n",
    "        H,W,C = image.shape\n",
    "    else:\n",
    "        raise ValueError(\"Image shape must be 2 or 3\")\n",
    "    \n",
    "    h_k, w_k = kernel.shape\n",
    "\n",
    "    y_strides = H - h_k + 1\n",
    "    x_strides = W - w_k + 1\n",
    "\n",
    "    img = image.copy()\n",
    "    output_shape = (y_strides, x_strides, C)\n",
    "    output = np.zeros(output_shape, dtype=np.float32)\n",
    "\n",
    "    count=0\n",
    "\n",
    "    output_tmp = output.reshape(\n",
    "        (output_shape[0]*output_shape[1], output_shape[2])\n",
    "    )\n",
    "\n",
    "    for i in range(y_strides):\n",
    "        for j in range(x_strides):\n",
    "            for c in range(C):\n",
    "                sub_matriks = img[i:i+h_k, j:j+w_k, c]\n",
    "\n",
    "                output_tmp[count, c] = np.sum(sub_matriks * kernel)\n",
    "            \n",
    "            count += 1\n",
    "    \n",
    "\n",
    "    output = output_tmp.reshape(output_shape)\n",
    "\n",
    "    return output"
   ]
  },
  {
   "cell_type": "code",
   "execution_count": 5,
   "id": "d6f8260f",
   "metadata": {},
   "outputs": [],
   "source": [
    "def gausssian_blur(img: np.ndarray, sigma: float|int, filter_shape: list | tuple | None = None):\n",
    "    if filter_shape is None:\n",
    "        _ = 2*int(4*sigma+0.5)+1\n",
    "        filter_shape = (_,_)\n",
    "    \n",
    "    elif len(filter_shape) != 2:\n",
    "        raise ValueError(\"Filter shape must be 2\")\n",
    "    \n",
    "    m, n = filter_shape\n",
    "\n",
    "    m_half = m // 2\n",
    "    n_half = n // 2\n",
    "\n",
    "    gaussian_filter = np.zeros(filter_shape, np.float32)\n",
    "\n",
    "    for i in range(-m_half, m_half):\n",
    "        for j in range(-n_half,n_half):\n",
    "            normal = 1/(2.0 * np.pi * sigma**2.0)\n",
    "            exp_term = np.exp(-(i**2 + j**2) / (2.0 * sigma**2.0))\n",
    "            gaussian_filter[i+m_half, j+n_half] = normal * exp_term\n",
    "    \n",
    "    blur_img = convolution(img, gaussian_filter)\n",
    "\n",
    "    return gaussian_filter, blur_img"
   ]
  },
  {
   "cell_type": "code",
   "execution_count": 6,
   "id": "47c22a1c",
   "metadata": {},
   "outputs": [
    {
     "name": "stdout",
     "output_type": "stream",
     "text": [
      "(630, 554, 1)\n"
     ]
    }
   ],
   "source": [
    "img = s\n",
    "\n",
    "g_filter, blur_img = gausssian_blur(img, 2.5)\n",
    "print(blur_img.shape)\n",
    "\n",
    "cv2.imshow(\"Blur Image using Gaussian Filter\", blur_img)\n",
    "cv2.waitKey(0)\n",
    "cv2.destroyAllWindows()"
   ]
  },
  {
   "cell_type": "markdown",
   "id": "2610c640",
   "metadata": {},
   "source": [
    "## Thresholding"
   ]
  },
  {
   "cell_type": "code",
   "execution_count": 7,
   "id": "b28973a6",
   "metadata": {},
   "outputs": [
    {
     "name": "stdout",
     "output_type": "stream",
     "text": [
      "(630, 554, 1)\n"
     ]
    }
   ],
   "source": [
    "def threshold(thresValue, imgValue):\n",
    "    # copy image using zeros\n",
    "    img_copy = np.ones(thresValue.shape).astype(np.uint8)\n",
    "    # thresholding\n",
    "    img_copy[np.where(thresValue > imgValue)] = 255\n",
    "    return img_copy\n",
    "\n",
    "# # otsu threshold gak kepake le kawkoawko\n",
    "# def otsu_threshold(img, max_L):\n",
    "#     M = np.product(img.shape)\n",
    "#     min_var = []\n",
    "#     hist_t = np.histogram(img, bins=256, range=(0,256))\n",
    "    \n",
    "#     img_t = threshold(img, 0)\n",
    "    \n",
    "#     for L in np.arange(1, max_L):\n",
    "#         img_ti = threshold(img, L)\n",
    "#         # compute weight\n",
    "#         w_a = np.sum(hist_t[0][:L]) / M\n",
    "#         w_b = np.sum(hist_t[0][L:]) / M\n",
    "        \n",
    "#         # compute variant\n",
    "#         sig_a = np.var(img[np.where(img_ti == 0)])\n",
    "#         sig_b = np.var(img[np.where(img_ti == 1)])\n",
    "        \n",
    "#         min_var = min_var + [w_a * sig_a + w_b * sig_b]\n",
    "\n",
    "#     img_t = threshold(img, np.argmin(min_var))\n",
    "#     return img_t, np.argmin(min_var)\n",
    "\n",
    "# img_o, oL = otsu_threshold(blur_img, 255)\n",
    "# thresholderrr = np.zeros_like(blur_img)\n",
    "# thresholderrr[:] = 235\n",
    "\n",
    "mask_1 = threshold(blur_img, np.mean(blur_img)-.075)\n",
    "print(mask_1.shape)\n",
    "\n",
    "cv2.imshow(\"Threshold Image\", mask_1)\n",
    "cv2.waitKey(0)\n",
    "cv2.destroyAllWindows()"
   ]
  },
  {
   "cell_type": "markdown",
   "id": "52358ce5975bb287",
   "metadata": {},
   "source": [
    "# Image Segmentation"
   ]
  },
  {
   "cell_type": "markdown",
   "id": "84c470d92f8c5bac",
   "metadata": {},
   "source": [
    "## change the color to grey"
   ]
  },
  {
   "cell_type": "code",
   "execution_count": 8,
   "id": "ac5effaad6456696",
   "metadata": {
    "ExecuteTime": {
     "end_time": "2024-05-23T12:55:57.566199Z",
     "start_time": "2024-05-23T12:55:57.561954Z"
    }
   },
   "outputs": [],
   "source": [
    "def rgb2gray(image):\n",
    "    H,W = image.shape[:2]\n",
    "    gray = np.zeros((H,W), np.uint8)\n",
    "    for i in range(H):\n",
    "        for j in range(W):\n",
    "            gray[i,j] = np.clip(0.07 * image[i,j,0]  + 0.72 * image[i,j,1] + 0.21 * image[i,j,2], 0, 255)\n",
    "\n",
    "    return gray"
   ]
  },
  {
   "cell_type": "code",
   "execution_count": 9,
   "id": "ad5c507a38099ad3",
   "metadata": {
    "ExecuteTime": {
     "end_time": "2024-05-23T12:56:10.935085Z",
     "start_time": "2024-05-23T12:55:57.574670Z"
    }
   },
   "outputs": [
    {
     "name": "stdout",
     "output_type": "stream",
     "text": [
      "main image = (650, 574, 3)\n",
      "gray image = (650, 574)\n"
     ]
    }
   ],
   "source": [
    "print(\"main image = \" + str(img_read.shape))\n",
    "gray_img = rgb2gray(img_read)\n",
    "print(\"gray image = \" + str(gray_img.shape))\n",
    "cv2.imshow(\"Image to Gray\", gray_img)\n",
    "cv2.waitKey(0) \n",
    "cv2.destroyAllWindows()"
   ]
  },
  {
   "cell_type": "markdown",
   "id": "d96f4a5beb603c96",
   "metadata": {},
   "source": [
    "## Sobel equation for Edge Detection"
   ]
  },
  {
   "cell_type": "code",
   "execution_count": 10,
   "id": "7871a47016efa9f0",
   "metadata": {
    "ExecuteTime": {
     "end_time": "2024-05-23T12:56:10.940923Z",
     "start_time": "2024-05-23T12:56:10.936274Z"
    }
   },
   "outputs": [],
   "source": [
    "def apply_sobel(image):\n",
    "    # Define the Sobel kernels\n",
    "    Kx = np.array([[1, 0, -1],\n",
    "                   [2, 0, -2],\n",
    "                   [1, 0, -1]], dtype=np.float32)\n",
    "\n",
    "    Ky = np.array([[1, 2, 1],\n",
    "                   [0, 0, 0],\n",
    "                   [-1, -2, -1]], dtype=np.float32)\n",
    "\n",
    "    # Get the dimensions of the image\n",
    "    rows = image.shape[0]\n",
    "    cols = image.shape[1]\n",
    "    print(rows, cols)\n",
    "\n",
    "    # Initialize the gradient images\n",
    "    Gx = np.zeros_like(image, dtype=np.float32)\n",
    "    Gy = np.zeros_like(image, dtype=np.float32)\n",
    "\n",
    "    # Apply the Sobel operator\n",
    "    for i in range(1, rows - 1):\n",
    "        for j in range(1, cols - 1):\n",
    "            region = image[i - 1:i + 2, j - 1:j + 2]\n",
    "            Gx[i, j] = np.sum(Kx * region)\n",
    "            Gy[i, j] = np.sum(Ky * region)\n",
    "            \n",
    "            \n",
    "\n",
    "    # Compute the magnitude of the gradient\n",
    "    G = np.sqrt(Gx ** 2 + Gy ** 2)    \n",
    "    G = (G / G.max()) * 255  # Normalize to 0-255\n",
    "    G = G.astype(np.uint8)\n",
    "\n",
    "    return G"
   ]
  },
  {
   "cell_type": "markdown",
   "id": "2586994a",
   "metadata": {},
   "source": [
    "## Erode"
   ]
  },
  {
   "cell_type": "code",
   "execution_count": 11,
   "id": "1ff7488e",
   "metadata": {},
   "outputs": [],
   "source": [
    "import cv2 as cv\n",
    "import numpy as np\n",
    "\n",
    "class erode:\n",
    "    def __init__(self, img):\n",
    "        self.size = 19\n",
    "        self.kernel = np.ones((self.size, self.size), np.uint8)\n",
    "        self.p_size = self.size//2\n",
    "        self.rows = img.shape[0]\n",
    "        self.columns = img.shape[1]\n",
    "        \n",
    "        self.padImg = self.padding(img)\n",
    "        self.erotionImg = self.Erosion(self.padImg)\n",
    "\n",
    "    # padding\n",
    "    def padding(self, originalImg):\n",
    "        padImg = np.zeros((self.rows+2*self.p_size, self.columns+2*self.p_size), dtype=np.uint8)\n",
    "        # using Slicing\n",
    "        padImg[self.p_size:self.rows+self.p_size, self.p_size:self.columns+self.p_size] = originalImg\n",
    "        return padImg\n",
    "    \n",
    "    # Morphological Erosion\n",
    "    def Erosion(self, padImg):\n",
    "        output = np.zeros((self.rows, self.columns), dtype=np.uint8)\n",
    "        for i in range(0, self.rows):\n",
    "            for j in range(0, self.columns):\n",
    "                # Slicing\n",
    "                portion = padImg[i:i+self.size, j:j+self.size]\n",
    "                portion1 = portion.flatten()\n",
    "                portion2 = self.kernel.flatten()\n",
    "                # sum of kernel and window\n",
    "                p1 = (np.sum(portion1))\n",
    "                p2 = (np.sum(portion2))*255\n",
    "                # if Fit condition satisfies\n",
    "                if p1 == p2:\n",
    "                    output[i, j] = 255\n",
    "                else:\n",
    "                    output[i, j] = np.min(portion1)\n",
    "        return output\n"
   ]
  },
  {
   "cell_type": "markdown",
   "id": "424263dd",
   "metadata": {},
   "source": [
    "## Dilated"
   ]
  },
  {
   "cell_type": "code",
   "execution_count": 12,
   "id": "000f4263",
   "metadata": {},
   "outputs": [],
   "source": [
    "import cv2 as cv\n",
    "import numpy as np\n",
    "\n",
    "class dilation:\n",
    "    def __init__(self, img):\n",
    "        self.size = 5\n",
    "        self.kernel = np.ones((self.size, self.size), np.uint8) # Structuring Element along with the size \n",
    "        self.p_size = self.size//2 # padding size \n",
    "        self.rows = img.shape[0] # getting size of image\n",
    "        self.columns = img.shape[1]\n",
    "        self.img = img\n",
    "        \n",
    "        self.padded_Img = self.padding(self.img)  # Call padding on the instance\n",
    "        self.dilation_result = self.Dilation(self.padded_Img, self.size)\n",
    "        \n",
    "    # padding\n",
    "    def padding(self, img):\n",
    "        padImg = np.zeros((self.img.shape[0] + 2 * self.p_size, self.img.shape[1] + 2 * self.p_size), dtype=np.uint8)\n",
    "        padImg[self.p_size:self.p_size + self.img.shape[0], self.p_size:self.p_size + self.img.shape[1]] = self.img\n",
    "        return padImg\n",
    "    \n",
    "    def Dilation(self, padded_img, size):\n",
    "        output = np.zeros((self.rows, self.columns), dtype=np.uint8)\n",
    "        for i in range(0, self.rows):\n",
    "            for j in range(0, self.columns):\n",
    "                # Slicing\n",
    "                portion = padded_img[i:i+size, j:j+size]\n",
    "                portion1 = portion.flatten()\n",
    "                # if Hit Condition Satisfies\n",
    "                if 255 in portion1:\n",
    "                    output[i, j] = 255\n",
    "                else:\n",
    "                    output[i, j] = np.max(portion1)\n",
    "        return output\n"
   ]
  },
  {
   "cell_type": "markdown",
   "id": "04edfacc",
   "metadata": {},
   "source": [
    "## Opening Closing"
   ]
  },
  {
   "cell_type": "code",
   "execution_count": 13,
   "id": "1a75099c",
   "metadata": {},
   "outputs": [],
   "source": [
    "import cv2 as cv\n",
    "import numpy as np\n",
    "\n",
    "class open_close:\n",
    "    def __init__(self, img):\n",
    "        self.size = 5\n",
    "        self.kernel = np.ones((self.size, self.size), np.uint8) # Structuring Element along with the size \n",
    "        self.p_size = self.size//2 # padding size \n",
    "        self.rows = img.shape[0] # getting size of image\n",
    "        self.columns = img.shape[1]\n",
    "        self.img = img\n",
    "        \n",
    "        # self.padImg = self.padding(img)\n",
    "        \n",
    "    def padding(self, img):\n",
    "        padImg = np.zeros((self.img.shape[0] + 2 * self.p_size, self.img.shape[1] + 2 * self.p_size), dtype=np.uint8)\n",
    "        padImg[self.p_size:self.p_size + self.img.shape[0], self.p_size:self.p_size + self.img.shape[1]] = self.img\n",
    "        return padImg\n",
    "        \n",
    "    def opening(self, img):\n",
    "        padImage = self.padding(img)\n",
    "        # First apply Erosion\n",
    "        erosion = erode.Erosion(self, padImg=padImage)\n",
    "        padImg2 = self.padding(erosion)\n",
    "        # secondly apply Dilation on Eroded\n",
    "        output = dilation.Dilation(self, padImg2, self.size)\n",
    "        return output\n",
    "\n",
    "    def closing(self, padImg):\n",
    "        padImage = self.padding(img)\n",
    "        # First apply Dilation\n",
    "        dilati_ = dilation.Dilation(self, padded_img=padImage)\n",
    "        padImg2 = self.padding(dilati_)\n",
    "        # secondly apply Erosion on Dilated\n",
    "        output = erode.Erosion(self, padImg2, self.size)\n",
    "        return output"
   ]
  },
  {
   "cell_type": "markdown",
   "id": "3e31fbbb",
   "metadata": {},
   "source": [
    "## Fingernail Mask"
   ]
  },
  {
   "cell_type": "code",
   "execution_count": 14,
   "id": "7ffe79f4",
   "metadata": {},
   "outputs": [
    {
     "name": "stdout",
     "output_type": "stream",
     "text": [
      "650 574\n"
     ]
    }
   ],
   "source": [
    "# Apply Edge Detection\n",
    "edge_img = apply_sobel(gray_img)\n",
    "cv2.imshow(\"Edge Detection using Sobel\", edge_img)\n",
    "cv2.waitKey(0)\n",
    "cv2.destroyAllWindows()\n",
    "\n",
    "# Apply Dilate\n",
    "Dilated_img = dilation(edge_img) # Morphological Erosion\n",
    "dilation_res = Dilated_img.dilation_result\n",
    "\n",
    "# Apply Threshold\n",
    "thres_dilate = threshold(dilation_res, np.mean(dilation_res))\n",
    "\n",
    "# Apply Dilate\n",
    "dilate_thres = dilation(thres_dilate)\n",
    "dilate_thres_res = dilate_thres.dilation_result\n",
    "\n",
    "# Apply Opening (Erode -> Dilate)\n",
    "open_container = open_close(dilate_thres_res)\n",
    "open = open_container.opening(img=dilate_thres_res)\n",
    "\n",
    "# Apply Closing (Dilate -> Erode)\n",
    "close_container = open_close(open)\n",
    "close = close_container.opening(img=open)\n",
    "\n",
    "cv2.imshow(\"Dilate > Threshold > Dilate > Opening > Closing\", close)\n",
    "cv2.waitKey(0)\n",
    "cv2.destroyAllWindows()"
   ]
  },
  {
   "cell_type": "markdown",
   "id": "5dd2c3c8",
   "metadata": {},
   "source": [
    "## Masking Fingernail_Mask with Upper Mask"
   ]
  },
  {
   "cell_type": "code",
   "execution_count": 15,
   "id": "5fe35d29",
   "metadata": {},
   "outputs": [
    {
     "name": "stderr",
     "output_type": "stream",
     "text": [
      "C:\\Users\\Naufal\\AppData\\Local\\Temp\\ipykernel_24988\\3365308714.py:10: DeprecationWarning: `np.float` is a deprecated alias for the builtin `float`. To silence this warning, use `float` by itself. Doing this will not modify any behavior and is safe. If you specifically wanted the numpy scalar type, use `np.float64` here.\n",
      "Deprecated in NumPy 1.20; for more details and guidance: https://numpy.org/devdocs/release/1.20.0-notes.html#deprecations\n",
      "  s = np.zeros((row, col), dtype=np.float)\n",
      "C:\\Users\\Naufal\\AppData\\Local\\Temp\\ipykernel_24988\\3365308714.py:11: DeprecationWarning: `np.float` is a deprecated alias for the builtin `float`. To silence this warning, use `float` by itself. Doing this will not modify any behavior and is safe. If you specifically wanted the numpy scalar type, use `np.float64` here.\n",
      "Deprecated in NumPy 1.20; for more details and guidance: https://numpy.org/devdocs/release/1.20.0-notes.html#deprecations\n",
      "  v = np.zeros((row, col), dtype=np.float)\n"
     ]
    }
   ],
   "source": [
    "m_1 = mask_1 #threshold\n",
    "m_2 = close #hasil segmentasi\n",
    "\n",
    "# if mask_1 have higher dimension, then convert it to 2D\n",
    "if len(mask_1.shape) == 2:\n",
    "    m_1 = mask_1[:, :, np.newaxis]\n",
    "elif len(close.shape) == 2:\n",
    "    m_2 = close[:, :, np.newaxis]\n",
    "\n",
    "# ================ AND BITWIZE FOR PREPARATION MASKING =================\n",
    "# as we know the mask_2 shape is higher than mask_1, then we create zeros like mask_1\n",
    "zeros_mask = np.zeros_like(m_2)\n",
    "zeros_mask = np.repeat(zeros_mask, 3, axis=-1)\n",
    "\n",
    "# ================ MASKING ORIGINAL IMAGE USING OR OPERATION =================\n",
    "for w in range(m_1.shape[0]):\n",
    "    for h in range(m_1.shape[1]):\n",
    "        if m_1[w, h] == 255 & m_2[w, h] == 255:\n",
    "            zeros_mask[w, h] = 255\n",
    "        elif m_1[w, h] == 0 & m_2[w, h] == 255:\n",
    "            zeros_mask[w, h] = 0\n",
    "        else:\n",
    "            zeros_mask[w, h] = 0\n",
    "\n",
    "# ================ MASKING ORIGINAL IMAGE USING OR OPERATION =================\n",
    "# Replicate higher dimension like zeros_mask to copy lower dimension (threshold_mask)\n",
    "zero_repli = np.zeros_like(zeros_mask)\n",
    "for w in range(zeros_mask.shape[0]):\n",
    "    for h in range(zeros_mask.shape[1]):\n",
    "        for z in range(zeros_mask.shape[2]):\n",
    "            try:\n",
    "                if m_1[w, h] == 255:\n",
    "                    zero_repli[w, h, z] = 255\n",
    "                else:\n",
    "                    zero_repli[w, h, z] = 0\n",
    "            except:\n",
    "                pass\n",
    "\n",
    "# Masking image using threshold mask\n",
    "zero_img = np.zeros_like(img_read)\n",
    "for w in range(img_read.shape[0]):\n",
    "    for h in range(img_read.shape[1]):\n",
    "        for z in range(img_read.shape[2]):\n",
    "            if zeros_mask[:,:,0][w, h] == 255:\n",
    "                zero_img[:,:,0][w, h] = 0 \n",
    "                zero_img[:,:,1][w, h] = 0\n",
    "                zero_img[:,:,2][w, h] = 0\n",
    "            else:\n",
    "                zero_img[:,:,0][w, h] = img_read[:,:,0][w, h]\n",
    "                zero_img[:,:,1][w, h] = img_read[:,:,1][w, h]\n",
    "                zero_img[:,:,2][w, h] = img_read[:,:,2][w, h]\n",
    "\n",
    "\n",
    "img_masked = zero_img[:,:,:]         \n",
    "for w in range(img_read.shape[0]):\n",
    "    for h in range(img_read.shape[1]):\n",
    "        for z in range(img_read.shape[2]):\n",
    "            if zero_repli[:,:,0][w, h] == 255:\n",
    "                img_masked[:,:,0][w, h] = img_masked[:,:,0][w, h]\n",
    "                img_masked[:,:,1][w, h] = img_masked[:,:,1][w, h]\n",
    "                img_masked[:,:,2][w, h] = img_masked[:,:,2][w, h]\n",
    "            else:\n",
    "                img_masked[:,:,0][w, h] = 0\n",
    "                img_masked[:,:,1][w, h] = 0\n",
    "                img_masked[:,:,2][w, h] = 0\n",
    "                \n",
    "\n",
    "#  GET COLOR RANGE\n",
    "h_t, s_t, v_t = BGR2HSV(img_masked)\n",
    "found_counter = 0\n",
    "hue_list = [32, 33, 34, 35, 36, 37, 38, 39, 40, 41, 42, 43, 44, 45, 46, 47, 48, 49, 50]\n",
    "for w in range(img_masked.shape[0]):\n",
    "    for h in range(img_masked.shape[1]):\n",
    "        for z in range(img_masked.shape[2]):\n",
    "            if img_masked[w][h][0] == 0 & img_masked[w][h][1] == 0 & img_masked[w][h][0] == 0:\n",
    "                pass\n",
    "            else:\n",
    "                if h_t[w][h] in hue_list:\n",
    "                    found_counter += 1\n",
    "                    img_read[w][h][0] = 255\n",
    "                    img_read[w][h][1] = 0\n",
    "                    img_read[w][h][2] = 15\n",
    "\n",
    "cv2.imshow(\"Fingernail Detected!\", img_masked)\n",
    "cv2.waitKey(0)\n",
    "cv2.destroyAllWindows()\n",
    "cv2.imshow(\"Final Detected\", img_read)\n",
    "cv2.waitKey(0)\n",
    "cv2.destroyAllWindows()\n"
   ]
  },
  {
   "cell_type": "markdown",
   "id": "0d385d4c",
   "metadata": {},
   "source": [
    "## Display All Image"
   ]
  }
 ],
 "metadata": {
  "kernelspec": {
   "display_name": "Python 3",
   "language": "python",
   "name": "python3"
  },
  "language_info": {
   "codemirror_mode": {
    "name": "ipython",
    "version": 3
   },
   "file_extension": ".py",
   "mimetype": "text/x-python",
   "name": "python",
   "nbconvert_exporter": "python",
   "pygments_lexer": "ipython3",
   "version": "3.11.6"
  }
 },
 "nbformat": 4,
 "nbformat_minor": 5
}
